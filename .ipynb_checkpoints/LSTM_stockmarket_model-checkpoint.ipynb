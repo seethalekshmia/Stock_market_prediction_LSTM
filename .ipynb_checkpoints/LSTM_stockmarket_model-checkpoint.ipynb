{
 "cells": [
  {
   "cell_type": "markdown",
   "metadata": {
    "colab_type": "text",
    "id": "view-in-github"
   },
   "source": [
    "<a href=\"https://colab.research.google.com/github/034adarsh/Stock-Price-Prediction-Using-LSTM/blob/main/LSTM_Improved_model(diff_dataset).ipynb\" target=\"_parent\"><img src=\"https://colab.research.google.com/assets/colab-badge.svg\" alt=\"Open In Colab\"/></a>"
   ]
  },
  {
   "cell_type": "markdown",
   "id": "yrU0iWdalVGx",
   "metadata": {
    "id": "yrU0iWdalVGx"
   },
   "source": [
    "# Import all the required libraries\n",
    "\n",
    "---\n",
    "\n"
   ]
  },
  {
   "cell_type": "code",
   "execution_count": 5,
   "id": "4189cf86",
   "metadata": {
    "id": "4189cf86",
    "scrolled": false
   },
   "outputs": [
    {
     "name": "stderr",
     "output_type": "stream",
     "text": [
      "2024-12-07 15:15:03.624497: I tensorflow/core/platform/cpu_feature_guard.cc:193] This TensorFlow binary is optimized with oneAPI Deep Neural Network Library (oneDNN) to use the following CPU instructions in performance-critical operations:  AVX2 AVX512F AVX512_VNNI FMA\n",
      "To enable them in other operations, rebuild TensorFlow with the appropriate compiler flags.\n",
      "2024-12-07 15:15:03.868605: I tensorflow/core/util/port.cc:104] oneDNN custom operations are on. You may see slightly different numerical results due to floating-point round-off errors from different computation orders. To turn them off, set the environment variable `TF_ENABLE_ONEDNN_OPTS=0`.\n",
      "2024-12-07 15:15:03.908237: W tensorflow/compiler/xla/stream_executor/platform/default/dso_loader.cc:64] Could not load dynamic library 'libcudart.so.11.0'; dlerror: libcudart.so.11.0: cannot open shared object file: No such file or directory\n",
      "2024-12-07 15:15:03.908256: I tensorflow/compiler/xla/stream_executor/cuda/cudart_stub.cc:29] Ignore above cudart dlerror if you do not have a GPU set up on your machine.\n",
      "2024-12-07 15:15:04.644682: W tensorflow/compiler/xla/stream_executor/platform/default/dso_loader.cc:64] Could not load dynamic library 'libnvinfer.so.7'; dlerror: libnvinfer.so.7: cannot open shared object file: No such file or directory\n",
      "2024-12-07 15:15:04.645388: W tensorflow/compiler/xla/stream_executor/platform/default/dso_loader.cc:64] Could not load dynamic library 'libnvinfer_plugin.so.7'; dlerror: libnvinfer_plugin.so.7: cannot open shared object file: No such file or directory\n",
      "2024-12-07 15:15:04.645395: W tensorflow/compiler/tf2tensorrt/utils/py_utils.cc:38] TF-TRT Warning: Cannot dlopen some TensorRT libraries. If you would like to use Nvidia GPU with TensorRT, please make sure the missing libraries mentioned above are installed properly.\n"
     ]
    }
   ],
   "source": [
    "import pandas as pd\n",
    "import datetime as dt\n",
    "from datetime import date\n",
    "import matplotlib.pyplot as plt\n",
    "import yfinance as yf\n",
    "import numpy as np\n",
    "import tensorflow as tf"
   ]
  },
  {
   "cell_type": "markdown",
   "id": "Nij98iZElfyQ",
   "metadata": {
    "id": "Nij98iZElfyQ"
   },
   "source": [
    "# Define start day to fetch the dataset from the yahoo finance library\n",
    "\n",
    "---\n",
    "\n"
   ]
  },
  {
   "cell_type": "code",
   "execution_count": 6,
   "id": "d20a4c49",
   "metadata": {
    "id": "d20a4c49",
    "scrolled": false
   },
   "outputs": [],
   "source": [
    "\n",
    "\n",
    "START = \"2010-01-01\"\n",
    "TODAY = date.today().strftime(\"%Y-%m-%d\")\n",
    "\n",
    "# Define a function to load the dataset\n",
    "\n",
    "def load_data(ticker):\n",
    "    data = yf.download(ticker, START, TODAY)\n",
    "    data.reset_index(inplace=True)\n",
    "    return data"
   ]
  },
  {
   "cell_type": "code",
   "execution_count": 7,
   "id": "c5f71e4e",
   "metadata": {
    "colab": {
     "base_uri": "https://localhost:8080/",
     "height": 224
    },
    "id": "c5f71e4e",
    "outputId": "047bd0e5-7e20-4d32-8d6f-0a0c1c5a2983"
   },
   "outputs": [
    {
     "name": "stderr",
     "output_type": "stream",
     "text": [
      "[*********************100%***********************]  1 of 1 completed\n"
     ]
    },
    {
     "data": {
      "text/html": [
       "<div>\n",
       "<style scoped>\n",
       "    .dataframe tbody tr th:only-of-type {\n",
       "        vertical-align: middle;\n",
       "    }\n",
       "\n",
       "    .dataframe tbody tr th {\n",
       "        vertical-align: top;\n",
       "    }\n",
       "\n",
       "    .dataframe thead tr th {\n",
       "        text-align: left;\n",
       "    }\n",
       "</style>\n",
       "<table border=\"1\" class=\"dataframe\">\n",
       "  <thead>\n",
       "    <tr>\n",
       "      <th>Price</th>\n",
       "      <th>Date</th>\n",
       "      <th>Adj Close</th>\n",
       "      <th>Close</th>\n",
       "      <th>High</th>\n",
       "      <th>Low</th>\n",
       "      <th>Open</th>\n",
       "      <th>Volume</th>\n",
       "    </tr>\n",
       "    <tr>\n",
       "      <th>Ticker</th>\n",
       "      <th></th>\n",
       "      <th>TCS.NS</th>\n",
       "      <th>TCS.NS</th>\n",
       "      <th>TCS.NS</th>\n",
       "      <th>TCS.NS</th>\n",
       "      <th>TCS.NS</th>\n",
       "      <th>TCS.NS</th>\n",
       "    </tr>\n",
       "  </thead>\n",
       "  <tbody>\n",
       "    <tr>\n",
       "      <th>0</th>\n",
       "      <td>2010-01-04</td>\n",
       "      <td>288.287262</td>\n",
       "      <td>375.825012</td>\n",
       "      <td>379.450012</td>\n",
       "      <td>374.524994</td>\n",
       "      <td>377.399994</td>\n",
       "      <td>1963682</td>\n",
       "    </tr>\n",
       "    <tr>\n",
       "      <th>1</th>\n",
       "      <td>2010-01-05</td>\n",
       "      <td>288.363892</td>\n",
       "      <td>375.924988</td>\n",
       "      <td>379.774994</td>\n",
       "      <td>373.274994</td>\n",
       "      <td>377.500000</td>\n",
       "      <td>2014488</td>\n",
       "    </tr>\n",
       "    <tr>\n",
       "      <th>2</th>\n",
       "      <td>2010-01-06</td>\n",
       "      <td>281.843781</td>\n",
       "      <td>367.424988</td>\n",
       "      <td>376.100006</td>\n",
       "      <td>366.500000</td>\n",
       "      <td>375.924988</td>\n",
       "      <td>3349176</td>\n",
       "    </tr>\n",
       "    <tr>\n",
       "      <th>3</th>\n",
       "      <td>2010-01-07</td>\n",
       "      <td>274.000397</td>\n",
       "      <td>357.200012</td>\n",
       "      <td>369.700012</td>\n",
       "      <td>355.500000</td>\n",
       "      <td>367.750000</td>\n",
       "      <td>6474892</td>\n",
       "    </tr>\n",
       "    <tr>\n",
       "      <th>4</th>\n",
       "      <td>2010-01-08</td>\n",
       "      <td>268.400726</td>\n",
       "      <td>349.899994</td>\n",
       "      <td>359.250000</td>\n",
       "      <td>348.250000</td>\n",
       "      <td>358.000000</td>\n",
       "      <td>6048178</td>\n",
       "    </tr>\n",
       "  </tbody>\n",
       "</table>\n",
       "</div>"
      ],
      "text/plain": [
       "Price        Date   Adj Close       Close        High         Low        Open  \\\n",
       "Ticker                 TCS.NS      TCS.NS      TCS.NS      TCS.NS      TCS.NS   \n",
       "0      2010-01-04  288.287262  375.825012  379.450012  374.524994  377.399994   \n",
       "1      2010-01-05  288.363892  375.924988  379.774994  373.274994  377.500000   \n",
       "2      2010-01-06  281.843781  367.424988  376.100006  366.500000  375.924988   \n",
       "3      2010-01-07  274.000397  357.200012  369.700012  355.500000  367.750000   \n",
       "4      2010-01-08  268.400726  349.899994  359.250000  348.250000  358.000000   \n",
       "\n",
       "Price    Volume  \n",
       "Ticker   TCS.NS  \n",
       "0       1963682  \n",
       "1       2014488  \n",
       "2       3349176  \n",
       "3       6474892  \n",
       "4       6048178  "
      ]
     },
     "execution_count": 7,
     "metadata": {},
     "output_type": "execute_result"
    }
   ],
   "source": [
    "data = load_data('TCS.NS')\n",
    "df=data\n",
    "df.head()"
   ]
  },
  {
   "cell_type": "code",
   "execution_count": 8,
   "id": "c7ec39e4",
   "metadata": {
    "colab": {
     "base_uri": "https://localhost:8080/",
     "height": 206
    },
    "id": "c7ec39e4",
    "outputId": "96670f67-4c6a-40fc-b065-a7820a2f9f46"
   },
   "outputs": [
    {
     "name": "stderr",
     "output_type": "stream",
     "text": [
      "/home/hp/Documents/deep_learning/dl_env/lib/python3.7/site-packages/pandas/core/generic.py:4150: PerformanceWarning: dropping on a non-lexsorted multi-index without a level parameter may impact performance.\n",
      "  obj = obj._drop_axis(labels, axis, level=level, errors=errors)\n"
     ]
    },
    {
     "data": {
      "text/html": [
       "<div>\n",
       "<style scoped>\n",
       "    .dataframe tbody tr th:only-of-type {\n",
       "        vertical-align: middle;\n",
       "    }\n",
       "\n",
       "    .dataframe tbody tr th {\n",
       "        vertical-align: top;\n",
       "    }\n",
       "\n",
       "    .dataframe thead tr th {\n",
       "        text-align: left;\n",
       "    }\n",
       "</style>\n",
       "<table border=\"1\" class=\"dataframe\">\n",
       "  <thead>\n",
       "    <tr>\n",
       "      <th>Price</th>\n",
       "      <th>Close</th>\n",
       "      <th>High</th>\n",
       "      <th>Low</th>\n",
       "      <th>Open</th>\n",
       "      <th>Volume</th>\n",
       "    </tr>\n",
       "    <tr>\n",
       "      <th>Ticker</th>\n",
       "      <th>TCS.NS</th>\n",
       "      <th>TCS.NS</th>\n",
       "      <th>TCS.NS</th>\n",
       "      <th>TCS.NS</th>\n",
       "      <th>TCS.NS</th>\n",
       "    </tr>\n",
       "  </thead>\n",
       "  <tbody>\n",
       "    <tr>\n",
       "      <th>0</th>\n",
       "      <td>375.825012</td>\n",
       "      <td>379.450012</td>\n",
       "      <td>374.524994</td>\n",
       "      <td>377.399994</td>\n",
       "      <td>1963682</td>\n",
       "    </tr>\n",
       "    <tr>\n",
       "      <th>1</th>\n",
       "      <td>375.924988</td>\n",
       "      <td>379.774994</td>\n",
       "      <td>373.274994</td>\n",
       "      <td>377.500000</td>\n",
       "      <td>2014488</td>\n",
       "    </tr>\n",
       "    <tr>\n",
       "      <th>2</th>\n",
       "      <td>367.424988</td>\n",
       "      <td>376.100006</td>\n",
       "      <td>366.500000</td>\n",
       "      <td>375.924988</td>\n",
       "      <td>3349176</td>\n",
       "    </tr>\n",
       "    <tr>\n",
       "      <th>3</th>\n",
       "      <td>357.200012</td>\n",
       "      <td>369.700012</td>\n",
       "      <td>355.500000</td>\n",
       "      <td>367.750000</td>\n",
       "      <td>6474892</td>\n",
       "    </tr>\n",
       "    <tr>\n",
       "      <th>4</th>\n",
       "      <td>349.899994</td>\n",
       "      <td>359.250000</td>\n",
       "      <td>348.250000</td>\n",
       "      <td>358.000000</td>\n",
       "      <td>6048178</td>\n",
       "    </tr>\n",
       "  </tbody>\n",
       "</table>\n",
       "</div>"
      ],
      "text/plain": [
       "Price        Close        High         Low        Open   Volume\n",
       "Ticker      TCS.NS      TCS.NS      TCS.NS      TCS.NS   TCS.NS\n",
       "0       375.825012  379.450012  374.524994  377.399994  1963682\n",
       "1       375.924988  379.774994  373.274994  377.500000  2014488\n",
       "2       367.424988  376.100006  366.500000  375.924988  3349176\n",
       "3       357.200012  369.700012  355.500000  367.750000  6474892\n",
       "4       349.899994  359.250000  348.250000  358.000000  6048178"
      ]
     },
     "execution_count": 8,
     "metadata": {},
     "output_type": "execute_result"
    }
   ],
   "source": [
    "df = df.drop(['Date', 'Adj Close'], axis = 1)\n",
    "df.head()"
   ]
  },
  {
   "cell_type": "markdown",
   "id": "M-ojrPeXOxPq",
   "metadata": {
    "id": "M-ojrPeXOxPq"
   },
   "source": [
    "Visualizing Closing Price"
   ]
  },
  {
   "cell_type": "code",
   "execution_count": 9,
   "id": "DCvdjb9gOhar",
   "metadata": {
    "colab": {
     "base_uri": "https://localhost:8080/",
     "height": 564
    },
    "id": "DCvdjb9gOhar",
    "outputId": "313d9fe1-80f9-43a6-a204-1051f9acd959"
   },
   "outputs": [
    {
     "data": {
      "image/png": "[encoded data removed]",
      "text/plain": [
       "<Figure size 1200x600 with 1 Axes>"
      ]
     },
     "metadata": {},
     "output_type": "display_data"
    }
   ],
   "source": [
    "plt.figure(figsize=(12, 6))\n",
    "plt.plot(df['Close'])\n",
    "plt.title(\"TCS India Stock Price\")\n",
    "plt.xlabel(\"Date\")\n",
    "plt.ylabel(\"Price (INR)\")\n",
    "plt.grid(True)\n",
    "plt.show()"
   ]
  },
  {
   "cell_type": "code",
   "execution_count": 10,
   "id": "73888072",
   "metadata": {
    "colab": {
     "base_uri": "https://localhost:8080/",
     "height": 424
    },
    "id": "73888072",
    "outputId": "c3ff127c-8c35-4bb6-a18d-a7880266b57f"
   },
   "outputs": [
    {
     "data": {
      "text/html": [
       "<div>\n",
       "<style scoped>\n",
       "    .dataframe tbody tr th:only-of-type {\n",
       "        vertical-align: middle;\n",
       "    }\n",
       "\n",
       "    .dataframe tbody tr th {\n",
       "        vertical-align: top;\n",
       "    }\n",
       "\n",
       "    .dataframe thead tr th {\n",
       "        text-align: left;\n",
       "    }\n",
       "</style>\n",
       "<table border=\"1\" class=\"dataframe\">\n",
       "  <thead>\n",
       "    <tr>\n",
       "      <th>Price</th>\n",
       "      <th>Close</th>\n",
       "      <th>High</th>\n",
       "      <th>Low</th>\n",
       "      <th>Open</th>\n",
       "      <th>Volume</th>\n",
       "    </tr>\n",
       "    <tr>\n",
       "      <th>Ticker</th>\n",
       "      <th>TCS.NS</th>\n",
       "      <th>TCS.NS</th>\n",
       "      <th>TCS.NS</th>\n",
       "      <th>TCS.NS</th>\n",
       "      <th>TCS.NS</th>\n",
       "    </tr>\n",
       "  </thead>\n",
       "  <tbody>\n",
       "    <tr>\n",
       "      <th>0</th>\n",
       "      <td>375.825012</td>\n",
       "      <td>379.450012</td>\n",
       "      <td>374.524994</td>\n",
       "      <td>377.399994</td>\n",
       "      <td>1963682</td>\n",
       "    </tr>\n",
       "    <tr>\n",
       "      <th>1</th>\n",
       "      <td>375.924988</td>\n",
       "      <td>379.774994</td>\n",
       "      <td>373.274994</td>\n",
       "      <td>377.500000</td>\n",
       "      <td>2014488</td>\n",
       "    </tr>\n",
       "    <tr>\n",
       "      <th>2</th>\n",
       "      <td>367.424988</td>\n",
       "      <td>376.100006</td>\n",
       "      <td>366.500000</td>\n",
       "      <td>375.924988</td>\n",
       "      <td>3349176</td>\n",
       "    </tr>\n",
       "    <tr>\n",
       "      <th>3</th>\n",
       "      <td>357.200012</td>\n",
       "      <td>369.700012</td>\n",
       "      <td>355.500000</td>\n",
       "      <td>367.750000</td>\n",
       "      <td>6474892</td>\n",
       "    </tr>\n",
       "    <tr>\n",
       "      <th>4</th>\n",
       "      <td>349.899994</td>\n",
       "      <td>359.250000</td>\n",
       "      <td>348.250000</td>\n",
       "      <td>358.000000</td>\n",
       "      <td>6048178</td>\n",
       "    </tr>\n",
       "    <tr>\n",
       "      <th>...</th>\n",
       "      <td>...</td>\n",
       "      <td>...</td>\n",
       "      <td>...</td>\n",
       "      <td>...</td>\n",
       "      <td>...</td>\n",
       "    </tr>\n",
       "    <tr>\n",
       "      <th>3679</th>\n",
       "      <td>4276.649902</td>\n",
       "      <td>4288.200195</td>\n",
       "      <td>4230.049805</td>\n",
       "      <td>4270.000000</td>\n",
       "      <td>1670944</td>\n",
       "    </tr>\n",
       "    <tr>\n",
       "      <th>3680</th>\n",
       "      <td>4302.750000</td>\n",
       "      <td>4325.000000</td>\n",
       "      <td>4265.450195</td>\n",
       "      <td>4314.350098</td>\n",
       "      <td>2010905</td>\n",
       "    </tr>\n",
       "    <tr>\n",
       "      <th>3681</th>\n",
       "      <td>4354.399902</td>\n",
       "      <td>4386.950195</td>\n",
       "      <td>4289.049805</td>\n",
       "      <td>4313.549805</td>\n",
       "      <td>3302642</td>\n",
       "    </tr>\n",
       "    <tr>\n",
       "      <th>3682</th>\n",
       "      <td>4464.049805</td>\n",
       "      <td>4489.000000</td>\n",
       "      <td>4360.000000</td>\n",
       "      <td>4400.799805</td>\n",
       "      <td>3746747</td>\n",
       "    </tr>\n",
       "    <tr>\n",
       "      <th>3683</th>\n",
       "      <td>4445.500000</td>\n",
       "      <td>4465.000000</td>\n",
       "      <td>4412.750000</td>\n",
       "      <td>4453.000000</td>\n",
       "      <td>1842087</td>\n",
       "    </tr>\n",
       "  </tbody>\n",
       "</table>\n",
       "<p>3684 rows × 5 columns</p>\n",
       "</div>"
      ],
      "text/plain": [
       "Price         Close         High          Low         Open   Volume\n",
       "Ticker       TCS.NS       TCS.NS       TCS.NS       TCS.NS   TCS.NS\n",
       "0        375.825012   379.450012   374.524994   377.399994  1963682\n",
       "1        375.924988   379.774994   373.274994   377.500000  2014488\n",
       "2        367.424988   376.100006   366.500000   375.924988  3349176\n",
       "3        357.200012   369.700012   355.500000   367.750000  6474892\n",
       "4        349.899994   359.250000   348.250000   358.000000  6048178\n",
       "...             ...          ...          ...          ...      ...\n",
       "3679    4276.649902  4288.200195  4230.049805  4270.000000  1670944\n",
       "3680    4302.750000  4325.000000  4265.450195  4314.350098  2010905\n",
       "3681    4354.399902  4386.950195  4289.049805  4313.549805  3302642\n",
       "3682    4464.049805  4489.000000  4360.000000  4400.799805  3746747\n",
       "3683    4445.500000  4465.000000  4412.750000  4453.000000  1842087\n",
       "\n",
       "[3684 rows x 5 columns]"
      ]
     },
     "execution_count": 10,
     "metadata": {},
     "output_type": "execute_result"
    }
   ],
   "source": [
    "df"
   ]
  },
  {
   "cell_type": "markdown",
   "id": "UMkTEOfBlzte",
   "metadata": {
    "id": "UMkTEOfBlzte"
   },
   "source": [
    "# Plotting moving averages of 100 day\n",
    "\n",
    "---\n",
    "\n"
   ]
  },
  {
   "cell_type": "code",
   "execution_count": 11,
   "id": "114d2e0c",
   "metadata": {
    "colab": {
     "base_uri": "https://localhost:8080/"
    },
    "id": "114d2e0c",
    "outputId": "aad49169-4922-4f48-bd62-84ec26fa3768"
   },
   "outputs": [
    {
     "data": {
      "text/html": [
       "<div>\n",
       "<style scoped>\n",
       "    .dataframe tbody tr th:only-of-type {\n",
       "        vertical-align: middle;\n",
       "    }\n",
       "\n",
       "    .dataframe tbody tr th {\n",
       "        vertical-align: top;\n",
       "    }\n",
       "\n",
       "    .dataframe thead th {\n",
       "        text-align: right;\n",
       "    }\n",
       "</style>\n",
       "<table border=\"1\" class=\"dataframe\">\n",
       "  <thead>\n",
       "    <tr style=\"text-align: right;\">\n",
       "      <th>Ticker</th>\n",
       "      <th>TCS.NS</th>\n",
       "    </tr>\n",
       "  </thead>\n",
       "  <tbody>\n",
       "    <tr>\n",
       "      <th>0</th>\n",
       "      <td>NaN</td>\n",
       "    </tr>\n",
       "    <tr>\n",
       "      <th>1</th>\n",
       "      <td>NaN</td>\n",
       "    </tr>\n",
       "    <tr>\n",
       "      <th>2</th>\n",
       "      <td>NaN</td>\n",
       "    </tr>\n",
       "    <tr>\n",
       "      <th>3</th>\n",
       "      <td>NaN</td>\n",
       "    </tr>\n",
       "    <tr>\n",
       "      <th>4</th>\n",
       "      <td>NaN</td>\n",
       "    </tr>\n",
       "    <tr>\n",
       "      <th>...</th>\n",
       "      <td>...</td>\n",
       "    </tr>\n",
       "    <tr>\n",
       "      <th>3679</th>\n",
       "      <td>4262.867998</td>\n",
       "    </tr>\n",
       "    <tr>\n",
       "      <th>3680</th>\n",
       "      <td>4266.040498</td>\n",
       "    </tr>\n",
       "    <tr>\n",
       "      <th>3681</th>\n",
       "      <td>4270.492998</td>\n",
       "    </tr>\n",
       "    <tr>\n",
       "      <th>3682</th>\n",
       "      <td>4275.896497</td>\n",
       "    </tr>\n",
       "    <tr>\n",
       "      <th>3683</th>\n",
       "      <td>4278.511995</td>\n",
       "    </tr>\n",
       "  </tbody>\n",
       "</table>\n",
       "<p>3684 rows × 1 columns</p>\n",
       "</div>"
      ],
      "text/plain": [
       "Ticker       TCS.NS\n",
       "0               NaN\n",
       "1               NaN\n",
       "2               NaN\n",
       "3               NaN\n",
       "4               NaN\n",
       "...             ...\n",
       "3679    4262.867998\n",
       "3680    4266.040498\n",
       "3681    4270.492998\n",
       "3682    4275.896497\n",
       "3683    4278.511995\n",
       "\n",
       "[3684 rows x 1 columns]"
      ]
     },
     "execution_count": 11,
     "metadata": {},
     "output_type": "execute_result"
    }
   ],
   "source": [
    "ma100 = df.Close.rolling(100).mean()\n",
    "ma100"
   ]
  },
  {
   "cell_type": "code",
   "execution_count": 12,
   "id": "e2f6b740",
   "metadata": {
    "colab": {
     "base_uri": "https://localhost:8080/",
     "height": 563
    },
    "id": "e2f6b740",
    "outputId": "136dd8a6-23d1-4fef-d676-8db5fed9e4b5"
   },
   "outputs": [
    {
     "data": {
      "text/plain": [
       "Text(0.5, 1.0, 'Graph Of Moving Averages Of 100 Days')"
      ]
     },
     "execution_count": 12,
     "metadata": {},
     "output_type": "execute_result"
    },
    {
     "data": {
      "image/png": "[encoded data removed]",
      "text/plain": [
       "<Figure size 1200x600 with 1 Axes>"
      ]
     },
     "metadata": {},
     "output_type": "display_data"
    }
   ],
   "source": [
    "plt.figure(figsize = (12,6))\n",
    "plt.plot(df.Close)\n",
    "plt.plot(ma100, 'r')\n",
    "plt.grid(True)\n",
    "plt.title('Graph Of Moving Averages Of 100 Days')"
   ]
  },
  {
   "cell_type": "markdown",
   "id": "LQKvGsXwmN65",
   "metadata": {
    "id": "LQKvGsXwmN65"
   },
   "source": [
    "# Defining 200 days moving averages and plotting comparision graph with 100 days moving averages\n",
    "\n",
    "---\n",
    "\n"
   ]
  },
  {
   "cell_type": "code",
   "execution_count": 13,
   "id": "46c89811",
   "metadata": {
    "colab": {
     "base_uri": "https://localhost:8080/"
    },
    "id": "46c89811",
    "outputId": "a7a974f0-937e-4265-b375-929053f46272"
   },
   "outputs": [
    {
     "data": {
      "text/html": [
       "<div>\n",
       "<style scoped>\n",
       "    .dataframe tbody tr th:only-of-type {\n",
       "        vertical-align: middle;\n",
       "    }\n",
       "\n",
       "    .dataframe tbody tr th {\n",
       "        vertical-align: top;\n",
       "    }\n",
       "\n",
       "    .dataframe thead th {\n",
       "        text-align: right;\n",
       "    }\n",
       "</style>\n",
       "<table border=\"1\" class=\"dataframe\">\n",
       "  <thead>\n",
       "    <tr style=\"text-align: right;\">\n",
       "      <th>Ticker</th>\n",
       "      <th>TCS.NS</th>\n",
       "    </tr>\n",
       "  </thead>\n",
       "  <tbody>\n",
       "    <tr>\n",
       "      <th>0</th>\n",
       "      <td>NaN</td>\n",
       "    </tr>\n",
       "    <tr>\n",
       "      <th>1</th>\n",
       "      <td>NaN</td>\n",
       "    </tr>\n",
       "    <tr>\n",
       "      <th>2</th>\n",
       "      <td>NaN</td>\n",
       "    </tr>\n",
       "    <tr>\n",
       "      <th>3</th>\n",
       "      <td>NaN</td>\n",
       "    </tr>\n",
       "    <tr>\n",
       "      <th>4</th>\n",
       "      <td>NaN</td>\n",
       "    </tr>\n",
       "    <tr>\n",
       "      <th>...</th>\n",
       "      <td>...</td>\n",
       "    </tr>\n",
       "    <tr>\n",
       "      <th>3679</th>\n",
       "      <td>4102.652999</td>\n",
       "    </tr>\n",
       "    <tr>\n",
       "      <th>3680</th>\n",
       "      <td>4103.496249</td>\n",
       "    </tr>\n",
       "    <tr>\n",
       "      <th>3681</th>\n",
       "      <td>4104.599747</td>\n",
       "    </tr>\n",
       "    <tr>\n",
       "      <th>3682</th>\n",
       "      <td>4106.316495</td>\n",
       "    </tr>\n",
       "    <tr>\n",
       "      <th>3683</th>\n",
       "      <td>4107.796495</td>\n",
       "    </tr>\n",
       "  </tbody>\n",
       "</table>\n",
       "<p>3684 rows × 1 columns</p>\n",
       "</div>"
      ],
      "text/plain": [
       "Ticker       TCS.NS\n",
       "0               NaN\n",
       "1               NaN\n",
       "2               NaN\n",
       "3               NaN\n",
       "4               NaN\n",
       "...             ...\n",
       "3679    4102.652999\n",
       "3680    4103.496249\n",
       "3681    4104.599747\n",
       "3682    4106.316495\n",
       "3683    4107.796495\n",
       "\n",
       "[3684 rows x 1 columns]"
      ]
     },
     "execution_count": 13,
     "metadata": {},
     "output_type": "execute_result"
    }
   ],
   "source": [
    "ma200 = df.Close.rolling(200).mean()\n",
    "ma200"
   ]
  },
  {
   "cell_type": "code",
   "execution_count": 14,
   "id": "d7c0ce2e",
   "metadata": {
    "colab": {
     "base_uri": "https://localhost:8080/",
     "height": 563
    },
    "id": "d7c0ce2e",
    "outputId": "853bd4ca-af7d-4c81-9d9d-92ec6eddbef2"
   },
   "outputs": [
    {
     "data": {
      "text/plain": [
       "Text(0.5, 1.0, 'Comparision Of 100 Days And 200 Days Moving Averages')"
      ]
     },
     "execution_count": 14,
     "metadata": {},
     "output_type": "execute_result"
    },
    {
     "data": {
      "image/png": "[encoded data removed]",
      "text/plain": [
       "<Figure size 1200x600 with 1 Axes>"
      ]
     },
     "metadata": {},
     "output_type": "display_data"
    }
   ],
   "source": [
    "plt.figure(figsize = (12,6))\n",
    "plt.plot(df.Close)\n",
    "plt.plot(ma100, 'r')\n",
    "plt.plot(ma200, 'g')\n",
    "plt.grid(True)\n",
    "plt.title('Comparision Of 100 Days And 200 Days Moving Averages')"
   ]
  },
  {
   "cell_type": "code",
   "execution_count": 15,
   "id": "45a099a7",
   "metadata": {
    "colab": {
     "base_uri": "https://localhost:8080/"
    },
    "id": "45a099a7",
    "outputId": "c3685930-176a-4c2d-b391-69866c4637c5"
   },
   "outputs": [
    {
     "data": {
      "text/plain": [
       "(3684, 5)"
      ]
     },
     "execution_count": 15,
     "metadata": {},
     "output_type": "execute_result"
    }
   ],
   "source": [
    "df.shape"
   ]
  },
  {
   "cell_type": "markdown",
   "id": "bCw5fsrlmfpm",
   "metadata": {
    "id": "bCw5fsrlmfpm"
   },
   "source": [
    "# Spliting the dataset into training (70%) and testing (30%) set"
   ]
  },
  {
   "cell_type": "code",
   "execution_count": 16,
   "id": "9610c5fc",
   "metadata": {
    "colab": {
     "base_uri": "https://localhost:8080/"
    },
    "id": "9610c5fc",
    "outputId": "56ee8fcd-ce88-4705-f511-b030a00712c0"
   },
   "outputs": [
    {
     "name": "stdout",
     "output_type": "stream",
     "text": [
      "(2578, 7)\n",
      "(1106, 7)\n"
     ]
    }
   ],
   "source": [
    "# Splitting data into training and testing\n",
    "\n",
    "train = pd.DataFrame(data[0:int(len(data)*0.70)])\n",
    "test = pd.DataFrame(data[int(len(data)*0.70): int(len(data))])\n",
    "\n",
    "print(train.shape)\n",
    "print(test.shape)"
   ]
  },
  {
   "cell_type": "code",
   "execution_count": 17,
   "id": "2cb33dc0",
   "metadata": {
    "colab": {
     "base_uri": "https://localhost:8080/",
     "height": 206
    },
    "id": "2cb33dc0",
    "outputId": "bccf505c-0272-48e4-8b35-138abd6723dd"
   },
   "outputs": [
    {
     "data": {
      "text/html": [
       "<div>\n",
       "<style scoped>\n",
       "    .dataframe tbody tr th:only-of-type {\n",
       "        vertical-align: middle;\n",
       "    }\n",
       "\n",
       "    .dataframe tbody tr th {\n",
       "        vertical-align: top;\n",
       "    }\n",
       "\n",
       "    .dataframe thead tr th {\n",
       "        text-align: left;\n",
       "    }\n",
       "</style>\n",
       "<table border=\"1\" class=\"dataframe\">\n",
       "  <thead>\n",
       "    <tr>\n",
       "      <th>Price</th>\n",
       "      <th>Date</th>\n",
       "      <th>Adj Close</th>\n",
       "      <th>Close</th>\n",
       "      <th>High</th>\n",
       "      <th>Low</th>\n",
       "      <th>Open</th>\n",
       "      <th>Volume</th>\n",
       "    </tr>\n",
       "    <tr>\n",
       "      <th>Ticker</th>\n",
       "      <th></th>\n",
       "      <th>TCS.NS</th>\n",
       "      <th>TCS.NS</th>\n",
       "      <th>TCS.NS</th>\n",
       "      <th>TCS.NS</th>\n",
       "      <th>TCS.NS</th>\n",
       "      <th>TCS.NS</th>\n",
       "    </tr>\n",
       "  </thead>\n",
       "  <tbody>\n",
       "    <tr>\n",
       "      <th>0</th>\n",
       "      <td>2010-01-04</td>\n",
       "      <td>288.287262</td>\n",
       "      <td>375.825012</td>\n",
       "      <td>379.450012</td>\n",
       "      <td>374.524994</td>\n",
       "      <td>377.399994</td>\n",
       "      <td>1963682</td>\n",
       "    </tr>\n",
       "    <tr>\n",
       "      <th>1</th>\n",
       "      <td>2010-01-05</td>\n",
       "      <td>288.363892</td>\n",
       "      <td>375.924988</td>\n",
       "      <td>379.774994</td>\n",
       "      <td>373.274994</td>\n",
       "      <td>377.500000</td>\n",
       "      <td>2014488</td>\n",
       "    </tr>\n",
       "    <tr>\n",
       "      <th>2</th>\n",
       "      <td>2010-01-06</td>\n",
       "      <td>281.843781</td>\n",
       "      <td>367.424988</td>\n",
       "      <td>376.100006</td>\n",
       "      <td>366.500000</td>\n",
       "      <td>375.924988</td>\n",
       "      <td>3349176</td>\n",
       "    </tr>\n",
       "    <tr>\n",
       "      <th>3</th>\n",
       "      <td>2010-01-07</td>\n",
       "      <td>274.000397</td>\n",
       "      <td>357.200012</td>\n",
       "      <td>369.700012</td>\n",
       "      <td>355.500000</td>\n",
       "      <td>367.750000</td>\n",
       "      <td>6474892</td>\n",
       "    </tr>\n",
       "    <tr>\n",
       "      <th>4</th>\n",
       "      <td>2010-01-08</td>\n",
       "      <td>268.400726</td>\n",
       "      <td>349.899994</td>\n",
       "      <td>359.250000</td>\n",
       "      <td>348.250000</td>\n",
       "      <td>358.000000</td>\n",
       "      <td>6048178</td>\n",
       "    </tr>\n",
       "  </tbody>\n",
       "</table>\n",
       "</div>"
      ],
      "text/plain": [
       "Price        Date   Adj Close       Close        High         Low        Open  \\\n",
       "Ticker                 TCS.NS      TCS.NS      TCS.NS      TCS.NS      TCS.NS   \n",
       "0      2010-01-04  288.287262  375.825012  379.450012  374.524994  377.399994   \n",
       "1      2010-01-05  288.363892  375.924988  379.774994  373.274994  377.500000   \n",
       "2      2010-01-06  281.843781  367.424988  376.100006  366.500000  375.924988   \n",
       "3      2010-01-07  274.000397  357.200012  369.700012  355.500000  367.750000   \n",
       "4      2010-01-08  268.400726  349.899994  359.250000  348.250000  358.000000   \n",
       "\n",
       "Price    Volume  \n",
       "Ticker   TCS.NS  \n",
       "0       1963682  \n",
       "1       2014488  \n",
       "2       3349176  \n",
       "3       6474892  \n",
       "4       6048178  "
      ]
     },
     "execution_count": 17,
     "metadata": {},
     "output_type": "execute_result"
    }
   ],
   "source": [
    "train.head()"
   ]
  },
  {
   "cell_type": "code",
   "execution_count": 18,
   "id": "91f5ef8b",
   "metadata": {
    "colab": {
     "base_uri": "https://localhost:8080/",
     "height": 206
    },
    "id": "91f5ef8b",
    "outputId": "8e92506b-b4ea-4eec-c643-0f6e2d34bb90"
   },
   "outputs": [
    {
     "data": {
      "text/html": [
       "<div>\n",
       "<style scoped>\n",
       "    .dataframe tbody tr th:only-of-type {\n",
       "        vertical-align: middle;\n",
       "    }\n",
       "\n",
       "    .dataframe tbody tr th {\n",
       "        vertical-align: top;\n",
       "    }\n",
       "\n",
       "    .dataframe thead tr th {\n",
       "        text-align: left;\n",
       "    }\n",
       "</style>\n",
       "<table border=\"1\" class=\"dataframe\">\n",
       "  <thead>\n",
       "    <tr>\n",
       "      <th>Price</th>\n",
       "      <th>Date</th>\n",
       "      <th>Adj Close</th>\n",
       "      <th>Close</th>\n",
       "      <th>High</th>\n",
       "      <th>Low</th>\n",
       "      <th>Open</th>\n",
       "      <th>Volume</th>\n",
       "    </tr>\n",
       "    <tr>\n",
       "      <th>Ticker</th>\n",
       "      <th></th>\n",
       "      <th>TCS.NS</th>\n",
       "      <th>TCS.NS</th>\n",
       "      <th>TCS.NS</th>\n",
       "      <th>TCS.NS</th>\n",
       "      <th>TCS.NS</th>\n",
       "      <th>TCS.NS</th>\n",
       "    </tr>\n",
       "  </thead>\n",
       "  <tbody>\n",
       "    <tr>\n",
       "      <th>2578</th>\n",
       "      <td>2020-06-23</td>\n",
       "      <td>1882.551758</td>\n",
       "      <td>2035.300049</td>\n",
       "      <td>2044.000000</td>\n",
       "      <td>2010.000000</td>\n",
       "      <td>2027.0</td>\n",
       "      <td>4205944</td>\n",
       "    </tr>\n",
       "    <tr>\n",
       "      <th>2579</th>\n",
       "      <td>2020-06-24</td>\n",
       "      <td>1888.933960</td>\n",
       "      <td>2042.199951</td>\n",
       "      <td>2064.250000</td>\n",
       "      <td>2031.599976</td>\n",
       "      <td>2034.0</td>\n",
       "      <td>2560937</td>\n",
       "    </tr>\n",
       "    <tr>\n",
       "      <th>2580</th>\n",
       "      <td>2020-06-25</td>\n",
       "      <td>1864.792358</td>\n",
       "      <td>2016.099976</td>\n",
       "      <td>2060.000000</td>\n",
       "      <td>2009.250000</td>\n",
       "      <td>2035.0</td>\n",
       "      <td>3043931</td>\n",
       "    </tr>\n",
       "    <tr>\n",
       "      <th>2581</th>\n",
       "      <td>2020-06-26</td>\n",
       "      <td>1959.831543</td>\n",
       "      <td>2118.850098</td>\n",
       "      <td>2132.000000</td>\n",
       "      <td>2019.949951</td>\n",
       "      <td>2025.0</td>\n",
       "      <td>6300722</td>\n",
       "    </tr>\n",
       "    <tr>\n",
       "      <th>2582</th>\n",
       "      <td>2020-06-29</td>\n",
       "      <td>1943.922119</td>\n",
       "      <td>2101.649902</td>\n",
       "      <td>2127.600098</td>\n",
       "      <td>2091.300049</td>\n",
       "      <td>2108.0</td>\n",
       "      <td>3076341</td>\n",
       "    </tr>\n",
       "  </tbody>\n",
       "</table>\n",
       "</div>"
      ],
      "text/plain": [
       "Price        Date    Adj Close        Close         High          Low    Open  \\\n",
       "Ticker                  TCS.NS       TCS.NS       TCS.NS       TCS.NS  TCS.NS   \n",
       "2578   2020-06-23  1882.551758  2035.300049  2044.000000  2010.000000  2027.0   \n",
       "2579   2020-06-24  1888.933960  2042.199951  2064.250000  2031.599976  2034.0   \n",
       "2580   2020-06-25  1864.792358  2016.099976  2060.000000  2009.250000  2035.0   \n",
       "2581   2020-06-26  1959.831543  2118.850098  2132.000000  2019.949951  2025.0   \n",
       "2582   2020-06-29  1943.922119  2101.649902  2127.600098  2091.300049  2108.0   \n",
       "\n",
       "Price    Volume  \n",
       "Ticker   TCS.NS  \n",
       "2578    4205944  \n",
       "2579    2560937  \n",
       "2580    3043931  \n",
       "2581    6300722  \n",
       "2582    3076341  "
      ]
     },
     "execution_count": 18,
     "metadata": {},
     "output_type": "execute_result"
    }
   ],
   "source": [
    "test.head()"
   ]
  },
  {
   "cell_type": "markdown",
   "id": "-a818gdwm_WV",
   "metadata": {
    "id": "-a818gdwm_WV"
   },
   "source": [
    "# Using MinMax scaler for normalization of the dataset\n",
    "\n",
    "---\n",
    "\n"
   ]
  },
  {
   "cell_type": "code",
   "execution_count": 19,
   "id": "01f04df7",
   "metadata": {
    "id": "01f04df7"
   },
   "outputs": [],
   "source": [
    "from sklearn.preprocessing import MinMaxScaler\n",
    "scaler = MinMaxScaler(feature_range=(0,1))"
   ]
  },
  {
   "cell_type": "code",
   "execution_count": 20,
   "id": "53oSB51dB6Tw",
   "metadata": {
    "id": "53oSB51dB6Tw"
   },
   "outputs": [],
   "source": [
    "train_close = train.iloc[:, 4:5].values\n",
    "test_close = test.iloc[:, 4:5].values"
   ]
  },
  {
   "cell_type": "code",
   "execution_count": 21,
   "id": "d97e7ff8",
   "metadata": {
    "colab": {
     "base_uri": "https://localhost:8080/"
    },
    "id": "d97e7ff8",
    "outputId": "eae5e982-ee9f-4be5-af17-b78fc6e6dd45"
   },
   "outputs": [
    {
     "data": {
      "text/plain": [
       "array([[0.01671754],\n",
       "       [0.01606246],\n",
       "       [0.01251195],\n",
       "       ...,\n",
       "       [0.8817718 ],\n",
       "       [0.88533544],\n",
       "       [0.87860127]])"
      ]
     },
     "execution_count": 21,
     "metadata": {},
     "output_type": "execute_result"
    }
   ],
   "source": [
    "data_training_array = scaler.fit_transform(train_close)\n",
    "data_training_array"
   ]
  },
  {
   "cell_type": "code",
   "execution_count": 24,
   "id": "10227978",
   "metadata": {
    "id": "10227978"
   },
   "outputs": [],
   "source": [
    "x_train = []\n",
    "y_train = [] \n",
    "\n",
    "for i in range(100, data_training_array.shape[0]):\n",
    "    x_train.append(data_training_array[i-100: i])\n",
    "    y_train.append(data_training_array[i, 0])\n",
    "\n",
    "x_train, y_train = np.array(x_train), np.array(y_train) "
   ]
  },
  {
   "cell_type": "code",
   "execution_count": 25,
   "id": "0ea6446e",
   "metadata": {
    "colab": {
     "base_uri": "https://localhost:8080/"
    },
    "id": "0ea6446e",
    "outputId": "16c4a903-7a88-43c7-e30b-89149f057b75"
   },
   "outputs": [
    {
     "data": {
      "text/plain": [
       "(2478, 100, 1)"
      ]
     },
     "execution_count": 25,
     "metadata": {},
     "output_type": "execute_result"
    }
   ],
   "source": [
    "x_train.shape"
   ]
  },
  {
   "cell_type": "markdown",
   "id": "dsMIlQ8DnVOJ",
   "metadata": {
    "id": "dsMIlQ8DnVOJ"
   },
   "source": [
    "# ML Model (LSTM)\n",
    "\n",
    "---\n",
    "\n"
   ]
  },
  {
   "cell_type": "code",
   "execution_count": 26,
   "id": "e60ed317",
   "metadata": {
    "id": "e60ed317"
   },
   "outputs": [],
   "source": [
    "from tensorflow.keras.layers import Dense, Dropout, LSTM\n",
    "from tensorflow.keras.models import Sequential"
   ]
  },
  {
   "cell_type": "code",
   "execution_count": 27,
   "id": "17082610",
   "metadata": {
    "colab": {
     "base_uri": "https://localhost:8080/"
    },
    "id": "17082610",
    "outputId": "e3a8a228-487d-40be-a6ce-7e999581b9d1"
   },
   "outputs": [
    {
     "name": "stderr",
     "output_type": "stream",
     "text": [
      "2024-12-07 15:19:26.495382: W tensorflow/compiler/xla/stream_executor/platform/default/dso_loader.cc:64] Could not load dynamic library 'libcuda.so.1'; dlerror: libcuda.so.1: cannot open shared object file: No such file or directory\n",
      "2024-12-07 15:19:26.495794: W tensorflow/compiler/xla/stream_executor/cuda/cuda_driver.cc:265] failed call to cuInit: UNKNOWN ERROR (303)\n",
      "2024-12-07 15:19:26.495847: I tensorflow/compiler/xla/stream_executor/cuda/cuda_diagnostics.cc:156] kernel driver does not appear to be running on this host (hp-HP-250-G8-Notebook-PC): /proc/driver/nvidia/version does not exist\n",
      "2024-12-07 15:19:26.499385: I tensorflow/core/platform/cpu_feature_guard.cc:193] This TensorFlow binary is optimized with oneAPI Deep Neural Network Library (oneDNN) to use the following CPU instructions in performance-critical operations:  AVX2 AVX512F AVX512_VNNI FMA\n",
      "To enable them in other operations, rebuild TensorFlow with the appropriate compiler flags.\n"
     ]
    }
   ],
   "source": [
    "model = Sequential()\n",
    "model.add(LSTM(units = 50, activation = 'relu', return_sequences=True\n",
    "              ,input_shape = (x_train.shape[1], 1)))\n",
    "model.add(Dropout(0.2))\n",
    "\n",
    "\n",
    "model.add(LSTM(units = 60, activation = 'relu', return_sequences=True))\n",
    "model.add(Dropout(0.3))\n",
    "\n",
    "\n",
    "model.add(LSTM(units = 80, activation = 'relu', return_sequences=True))\n",
    "model.add(Dropout(0.4))\n",
    "\n",
    "\n",
    "model.add(LSTM(units = 120, activation = 'relu'))\n",
    "model.add(Dropout(0.5))\n",
    "\n",
    "model.add(Dense(units = 1))"
   ]
  },
  {
   "cell_type": "code",
   "execution_count": 28,
   "id": "5f5a1db3",
   "metadata": {
    "colab": {
     "base_uri": "https://localhost:8080/"
    },
    "id": "5f5a1db3",
    "outputId": "23244ace-c6af-46ed-e068-77c1cd563dd0"
   },
   "outputs": [
    {
     "name": "stdout",
     "output_type": "stream",
     "text": [
      "Model: \"sequential\"\n",
      "_________________________________________________________________\n",
      " Layer (type)                Output Shape              Param #   \n",
      "=================================================================\n",
      " lstm (LSTM)                 (None, 100, 50)           10400     \n",
      "                                                                 \n",
      " dropout (Dropout)           (None, 100, 50)           0         \n",
      "                                                                 \n",
      " lstm_1 (LSTM)               (None, 100, 60)           26640     \n",
      "                                                                 \n",
      " dropout_1 (Dropout)         (None, 100, 60)           0         \n",
      "                                                                 \n",
      " lstm_2 (LSTM)               (None, 100, 80)           45120     \n",
      "                                                                 \n",
      " dropout_2 (Dropout)         (None, 100, 80)           0         \n",
      "                                                                 \n",
      " lstm_3 (LSTM)               (None, 120)               96480     \n",
      "                                                                 \n",
      " dropout_3 (Dropout)         (None, 120)               0         \n",
      "                                                                 \n",
      " dense (Dense)               (None, 1)                 121       \n",
      "                                                                 \n",
      "=================================================================\n",
      "Total params: 178,761\n",
      "Trainable params: 178,761\n",
      "Non-trainable params: 0\n",
      "_________________________________________________________________\n"
     ]
    }
   ],
   "source": [
    "model.summary()"
   ]
  },
  {
   "cell_type": "markdown",
   "id": "KgEnUfCnn_1r",
   "metadata": {
    "id": "KgEnUfCnn_1r"
   },
   "source": [
    "# Training the model\n",
    "\n",
    "---\n",
    "\n"
   ]
  },
  {
   "cell_type": "code",
   "execution_count": 29,
   "id": "1d0c9b64",
   "metadata": {
    "colab": {
     "base_uri": "https://localhost:8080/"
    },
    "id": "1d0c9b64",
    "outputId": "8014670b-4fcf-4fe9-d60a-786b45c8b88c",
    "scrolled": false
   },
   "outputs": [
    {
     "name": "stdout",
     "output_type": "stream",
     "text": [
      "Epoch 1/100\n",
      "78/78 [==============================] - 14s 129ms/step - loss: 0.0423 - mean_absolute_error: 0.1355\n",
      "Epoch 2/100\n",
      "78/78 [==============================] - 10s 127ms/step - loss: 0.0090 - mean_absolute_error: 0.0682\n",
      "Epoch 3/100\n",
      "78/78 [==============================] - 11s 135ms/step - loss: 0.0076 - mean_absolute_error: 0.0622\n",
      "Epoch 4/100\n",
      "78/78 [==============================] - 11s 136ms/step - loss: 0.0067 - mean_absolute_error: 0.0575\n",
      "Epoch 5/100\n",
      "78/78 [==============================] - 11s 136ms/step - loss: 0.0063 - mean_absolute_error: 0.0560\n",
      "Epoch 6/100\n",
      "78/78 [==============================] - 11s 139ms/step - loss: 0.0064 - mean_absolute_error: 0.0559\n",
      "Epoch 7/100\n",
      "78/78 [==============================] - 11s 144ms/step - loss: 0.0061 - mean_absolute_error: 0.0545\n",
      "Epoch 8/100\n",
      "78/78 [==============================] - 11s 147ms/step - loss: 0.0051 - mean_absolute_error: 0.0492\n",
      "Epoch 9/100\n",
      "78/78 [==============================] - 11s 139ms/step - loss: 0.0056 - mean_absolute_error: 0.0519\n",
      "Epoch 10/100\n",
      "78/78 [==============================] - 10s 132ms/step - loss: 0.0048 - mean_absolute_error: 0.0472\n",
      "Epoch 11/100\n",
      "78/78 [==============================] - 11s 137ms/step - loss: 0.0049 - mean_absolute_error: 0.0485\n",
      "Epoch 12/100\n",
      "78/78 [==============================] - 11s 140ms/step - loss: 0.0048 - mean_absolute_error: 0.0467\n",
      "Epoch 13/100\n",
      "78/78 [==============================] - 11s 141ms/step - loss: 0.0049 - mean_absolute_error: 0.0469\n",
      "Epoch 14/100\n",
      "78/78 [==============================] - 11s 138ms/step - loss: 0.0043 - mean_absolute_error: 0.0448\n",
      "Epoch 15/100\n",
      "78/78 [==============================] - 12s 149ms/step - loss: 0.0043 - mean_absolute_error: 0.0451\n",
      "Epoch 16/100\n",
      "78/78 [==============================] - 11s 136ms/step - loss: 0.0038 - mean_absolute_error: 0.0434\n",
      "Epoch 17/100\n",
      "78/78 [==============================] - 11s 146ms/step - loss: 0.0038 - mean_absolute_error: 0.0423\n",
      "Epoch 18/100\n",
      "78/78 [==============================] - 11s 147ms/step - loss: 0.0037 - mean_absolute_error: 0.0428\n",
      "Epoch 19/100\n",
      "78/78 [==============================] - 10s 129ms/step - loss: 0.0036 - mean_absolute_error: 0.0413\n",
      "Epoch 20/100\n",
      "78/78 [==============================] - 10s 134ms/step - loss: 0.0032 - mean_absolute_error: 0.0396\n",
      "Epoch 21/100\n",
      "78/78 [==============================] - 11s 138ms/step - loss: 0.0038 - mean_absolute_error: 0.0433\n",
      "Epoch 22/100\n",
      "78/78 [==============================] - 11s 140ms/step - loss: 0.0036 - mean_absolute_error: 0.0418\n",
      "Epoch 23/100\n",
      "78/78 [==============================] - 11s 136ms/step - loss: 0.0032 - mean_absolute_error: 0.0396\n",
      "Epoch 24/100\n",
      "78/78 [==============================] - 11s 143ms/step - loss: 0.0033 - mean_absolute_error: 0.0401\n",
      "Epoch 25/100\n",
      "78/78 [==============================] - 11s 141ms/step - loss: 0.0031 - mean_absolute_error: 0.0389\n",
      "Epoch 26/100\n",
      "78/78 [==============================] - 11s 146ms/step - loss: 0.0037 - mean_absolute_error: 0.0422\n",
      "Epoch 27/100\n",
      "78/78 [==============================] - 11s 137ms/step - loss: 0.0031 - mean_absolute_error: 0.0393\n",
      "Epoch 28/100\n",
      "78/78 [==============================] - 11s 135ms/step - loss: 0.0029 - mean_absolute_error: 0.0378\n",
      "Epoch 29/100\n",
      "78/78 [==============================] - 11s 140ms/step - loss: 0.0031 - mean_absolute_error: 0.0388\n",
      "Epoch 30/100\n",
      "78/78 [==============================] - 11s 147ms/step - loss: 0.0032 - mean_absolute_error: 0.0396\n",
      "Epoch 31/100\n",
      "78/78 [==============================] - 11s 143ms/step - loss: 0.0030 - mean_absolute_error: 0.0387\n",
      "Epoch 32/100\n",
      "78/78 [==============================] - 12s 148ms/step - loss: 0.0027 - mean_absolute_error: 0.0372\n",
      "Epoch 33/100\n",
      "78/78 [==============================] - 11s 144ms/step - loss: 0.0029 - mean_absolute_error: 0.0381\n",
      "Epoch 34/100\n",
      "78/78 [==============================] - 11s 135ms/step - loss: 0.0026 - mean_absolute_error: 0.0369\n",
      "Epoch 35/100\n",
      "78/78 [==============================] - 11s 142ms/step - loss: 0.0028 - mean_absolute_error: 0.0375\n",
      "Epoch 36/100\n",
      "78/78 [==============================] - 11s 140ms/step - loss: 0.0028 - mean_absolute_error: 0.0378\n",
      "Epoch 37/100\n",
      "78/78 [==============================] - 11s 140ms/step - loss: 0.0027 - mean_absolute_error: 0.0376\n",
      "Epoch 38/100\n",
      "78/78 [==============================] - 11s 141ms/step - loss: 0.0027 - mean_absolute_error: 0.0364\n",
      "Epoch 39/100\n",
      "78/78 [==============================] - 11s 140ms/step - loss: 0.0025 - mean_absolute_error: 0.0357\n",
      "Epoch 40/100\n",
      "78/78 [==============================] - 10s 133ms/step - loss: 0.0026 - mean_absolute_error: 0.0369\n",
      "Epoch 41/100\n",
      "78/78 [==============================] - 10s 129ms/step - loss: 0.0027 - mean_absolute_error: 0.0372\n",
      "Epoch 42/100\n",
      "78/78 [==============================] - 11s 135ms/step - loss: 0.0025 - mean_absolute_error: 0.0364\n",
      "Epoch 43/100\n",
      "78/78 [==============================] - 11s 138ms/step - loss: 0.0025 - mean_absolute_error: 0.0362\n",
      "Epoch 44/100\n",
      "78/78 [==============================] - 10s 127ms/step - loss: 0.0025 - mean_absolute_error: 0.0358\n",
      "Epoch 45/100\n",
      "78/78 [==============================] - 10s 127ms/step - loss: 0.0024 - mean_absolute_error: 0.0356\n",
      "Epoch 46/100\n",
      "78/78 [==============================] - 10s 128ms/step - loss: 0.0025 - mean_absolute_error: 0.0363\n",
      "Epoch 47/100\n",
      "78/78 [==============================] - 10s 129ms/step - loss: 0.0025 - mean_absolute_error: 0.0364\n",
      "Epoch 48/100\n",
      "78/78 [==============================] - 10s 128ms/step - loss: 0.0024 - mean_absolute_error: 0.0355\n",
      "Epoch 49/100\n",
      "78/78 [==============================] - 10s 128ms/step - loss: 0.0025 - mean_absolute_error: 0.0359\n",
      "Epoch 50/100\n",
      "78/78 [==============================] - 10s 129ms/step - loss: 0.0025 - mean_absolute_error: 0.0351\n",
      "Epoch 51/100\n",
      "78/78 [==============================] - 10s 130ms/step - loss: 0.0024 - mean_absolute_error: 0.0355\n",
      "Epoch 52/100\n",
      "78/78 [==============================] - 10s 127ms/step - loss: 0.0023 - mean_absolute_error: 0.0346\n",
      "Epoch 53/100\n",
      "78/78 [==============================] - 10s 128ms/step - loss: 0.0024 - mean_absolute_error: 0.0362\n",
      "Epoch 54/100\n",
      "78/78 [==============================] - 10s 128ms/step - loss: 0.0025 - mean_absolute_error: 0.0364\n",
      "Epoch 55/100\n",
      "78/78 [==============================] - 11s 142ms/step - loss: 0.0025 - mean_absolute_error: 0.0368\n",
      "Epoch 56/100\n",
      "78/78 [==============================] - 10s 133ms/step - loss: 0.0025 - mean_absolute_error: 0.0356\n",
      "Epoch 57/100\n",
      "78/78 [==============================] - 11s 135ms/step - loss: 0.0024 - mean_absolute_error: 0.0355\n",
      "Epoch 58/100\n",
      "78/78 [==============================] - 10s 134ms/step - loss: 0.0023 - mean_absolute_error: 0.0347\n",
      "Epoch 59/100\n",
      "78/78 [==============================] - 10s 128ms/step - loss: 0.0022 - mean_absolute_error: 0.0344\n",
      "Epoch 60/100\n",
      "78/78 [==============================] - 10s 129ms/step - loss: 0.0024 - mean_absolute_error: 0.0357\n",
      "Epoch 61/100\n",
      "78/78 [==============================] - 10s 129ms/step - loss: 0.0023 - mean_absolute_error: 0.0343\n",
      "Epoch 62/100\n",
      "78/78 [==============================] - 10s 128ms/step - loss: 0.0022 - mean_absolute_error: 0.0341\n",
      "Epoch 63/100\n",
      "78/78 [==============================] - 10s 128ms/step - loss: 0.0022 - mean_absolute_error: 0.0338\n",
      "Epoch 64/100\n",
      "78/78 [==============================] - 10s 128ms/step - loss: 0.0023 - mean_absolute_error: 0.0341\n",
      "Epoch 65/100\n",
      "78/78 [==============================] - 10s 128ms/step - loss: 0.0025 - mean_absolute_error: 0.0357\n",
      "Epoch 66/100\n",
      "78/78 [==============================] - 10s 129ms/step - loss: 0.0023 - mean_absolute_error: 0.0345\n",
      "Epoch 67/100\n",
      "78/78 [==============================] - 10s 129ms/step - loss: 0.0023 - mean_absolute_error: 0.0349\n",
      "Epoch 68/100\n",
      "78/78 [==============================] - 10s 129ms/step - loss: 0.0023 - mean_absolute_error: 0.0350\n",
      "Epoch 69/100\n",
      "78/78 [==============================] - 10s 128ms/step - loss: 0.0022 - mean_absolute_error: 0.0341\n",
      "Epoch 70/100\n",
      "78/78 [==============================] - 10s 129ms/step - loss: 0.0022 - mean_absolute_error: 0.0339\n",
      "Epoch 71/100\n",
      "78/78 [==============================] - 10s 130ms/step - loss: 0.0021 - mean_absolute_error: 0.0336\n",
      "Epoch 72/100\n",
      "78/78 [==============================] - 10s 128ms/step - loss: 0.0022 - mean_absolute_error: 0.0342\n",
      "Epoch 73/100\n",
      "78/78 [==============================] - 10s 128ms/step - loss: 0.0022 - mean_absolute_error: 0.0338\n",
      "Epoch 74/100\n",
      "78/78 [==============================] - 10s 129ms/step - loss: 0.0023 - mean_absolute_error: 0.0344\n",
      "Epoch 75/100\n",
      "78/78 [==============================] - 10s 128ms/step - loss: 0.0023 - mean_absolute_error: 0.0341\n",
      "Epoch 76/100\n",
      "78/78 [==============================] - 10s 128ms/step - loss: 0.0022 - mean_absolute_error: 0.0343\n",
      "Epoch 77/100\n",
      "78/78 [==============================] - 10s 128ms/step - loss: 0.0022 - mean_absolute_error: 0.0331\n",
      "Epoch 78/100\n",
      "78/78 [==============================] - 10s 128ms/step - loss: 0.0021 - mean_absolute_error: 0.0330\n",
      "Epoch 79/100\n",
      "78/78 [==============================] - 10s 128ms/step - loss: 0.0022 - mean_absolute_error: 0.0339\n",
      "Epoch 80/100\n",
      "78/78 [==============================] - 10s 129ms/step - loss: 0.0023 - mean_absolute_error: 0.0342\n",
      "Epoch 81/100\n",
      "78/78 [==============================] - 10s 127ms/step - loss: 0.0023 - mean_absolute_error: 0.0344\n",
      "Epoch 82/100\n",
      "78/78 [==============================] - 10s 128ms/step - loss: 0.0023 - mean_absolute_error: 0.0342\n",
      "Epoch 83/100\n",
      "78/78 [==============================] - 10s 129ms/step - loss: 0.0021 - mean_absolute_error: 0.0336\n",
      "Epoch 84/100\n",
      "78/78 [==============================] - 10s 129ms/step - loss: 0.0024 - mean_absolute_error: 0.0355\n",
      "Epoch 85/100\n",
      "78/78 [==============================] - 10s 129ms/step - loss: 0.0022 - mean_absolute_error: 0.0342\n",
      "Epoch 86/100\n",
      "78/78 [==============================] - 10s 129ms/step - loss: 0.0021 - mean_absolute_error: 0.0337\n",
      "Epoch 87/100\n",
      "78/78 [==============================] - 10s 129ms/step - loss: 0.0022 - mean_absolute_error: 0.0335\n",
      "Epoch 88/100\n",
      "78/78 [==============================] - 10s 133ms/step - loss: 0.0022 - mean_absolute_error: 0.0329\n",
      "Epoch 89/100\n",
      "78/78 [==============================] - 10s 128ms/step - loss: 0.0022 - mean_absolute_error: 0.0330\n",
      "Epoch 90/100\n",
      "78/78 [==============================] - 10s 126ms/step - loss: 0.0022 - mean_absolute_error: 0.0344\n",
      "Epoch 91/100\n",
      "78/78 [==============================] - 10s 126ms/step - loss: 0.0020 - mean_absolute_error: 0.0324\n",
      "Epoch 92/100\n",
      "78/78 [==============================] - 10s 126ms/step - loss: 0.0022 - mean_absolute_error: 0.0347\n",
      "Epoch 93/100\n",
      "78/78 [==============================] - 10s 125ms/step - loss: 0.0022 - mean_absolute_error: 0.0337\n",
      "Epoch 94/100\n",
      "78/78 [==============================] - 10s 126ms/step - loss: 0.0022 - mean_absolute_error: 0.0334\n",
      "Epoch 95/100\n",
      "78/78 [==============================] - 10s 126ms/step - loss: 0.0021 - mean_absolute_error: 0.0333\n",
      "Epoch 96/100\n",
      "78/78 [==============================] - 10s 127ms/step - loss: 0.0022 - mean_absolute_error: 0.0329\n",
      "Epoch 97/100\n",
      "78/78 [==============================] - 10s 126ms/step - loss: 0.0022 - mean_absolute_error: 0.0338\n",
      "Epoch 98/100\n",
      "78/78 [==============================] - 10s 126ms/step - loss: 0.0023 - mean_absolute_error: 0.0345\n",
      "Epoch 99/100\n",
      "78/78 [==============================] - 10s 125ms/step - loss: 0.0022 - mean_absolute_error: 0.0333\n",
      "Epoch 100/100\n",
      "78/78 [==============================] - 10s 126ms/step - loss: 0.0022 - mean_absolute_error: 0.0339\n"
     ]
    },
    {
     "data": {
      "text/plain": [
       "<keras.callbacks.History at 0x74b9cb5becd0>"
      ]
     },
     "execution_count": 29,
     "metadata": {},
     "output_type": "execute_result"
    }
   ],
   "source": [
    "import tensorflow as tf\n",
    "model.compile(optimizer = 'adam', loss = 'mean_squared_error', metrics=[tf.keras.metrics.MeanAbsoluteError()])\n",
    "model.fit(x_train, y_train,epochs = 100)"
   ]
  },
  {
   "cell_type": "code",
   "execution_count": 30,
   "id": "zG1W6DhzI-hP",
   "metadata": {
    "id": "zG1W6DhzI-hP"
   },
   "outputs": [],
   "source": [
    "model.save('keras_model.h5')"
   ]
  },
  {
   "cell_type": "code",
   "execution_count": 31,
   "id": "khcKI1sSJSJB",
   "metadata": {
    "colab": {
     "base_uri": "https://localhost:8080/"
    },
    "id": "khcKI1sSJSJB",
    "outputId": "22c3f1bf-201a-4a60-ec6f-3be005f87ab1"
   },
   "outputs": [
    {
     "data": {
      "text/plain": [
       "(1106, 1)"
      ]
     },
     "execution_count": 31,
     "metadata": {},
     "output_type": "execute_result"
    }
   ],
   "source": [
    "test_close.shape"
   ]
  },
  {
   "cell_type": "code",
   "execution_count": 32,
   "id": "6QyF-7KbKaGt",
   "metadata": {
    "id": "6QyF-7KbKaGt"
   },
   "outputs": [],
   "source": [
    "past_100_days = pd.DataFrame(train_close[-100:])"
   ]
  },
  {
   "cell_type": "code",
   "execution_count": 33,
   "id": "pKsjLCyGLuOz",
   "metadata": {
    "id": "pKsjLCyGLuOz"
   },
   "outputs": [],
   "source": [
    "test_df = pd.DataFrame(test_close)"
   ]
  },
  {
   "cell_type": "markdown",
   "id": "d9ZKAzB8oKXJ",
   "metadata": {
    "id": "d9ZKAzB8oKXJ"
   },
   "source": [
    "**Defining the final dataset for testing by including last 100 coloums of the training dataset to get the prediction from the 1st column of the testing dataset.**\n",
    "\n",
    "---\n"
   ]
  },
  {
   "cell_type": "code",
   "execution_count": 34,
   "id": "UUapqTcVLOj-",
   "metadata": {
    "colab": {
     "base_uri": "https://localhost:8080/"
    },
    "id": "UUapqTcVLOj-",
    "outputId": "0b06f215-d627-419d-8e78-461a857ccf4d"
   },
   "outputs": [],
   "source": [
    "final_df = past_100_days.append(test_df, ignore_index = True)"
   ]
  },
  {
   "cell_type": "code",
   "execution_count": 35,
   "id": "L5gFYc1hMRjS",
   "metadata": {
    "colab": {
     "base_uri": "https://localhost:8080/",
     "height": 206
    },
    "id": "L5gFYc1hMRjS",
    "outputId": "200e81cd-e7d8-4d77-d727-6d5918b2e074"
   },
   "outputs": [
    {
     "data": {
      "text/html": [
       "<div>\n",
       "<style scoped>\n",
       "    .dataframe tbody tr th:only-of-type {\n",
       "        vertical-align: middle;\n",
       "    }\n",
       "\n",
       "    .dataframe tbody tr th {\n",
       "        vertical-align: top;\n",
       "    }\n",
       "\n",
       "    .dataframe thead th {\n",
       "        text-align: right;\n",
       "    }\n",
       "</style>\n",
       "<table border=\"1\" class=\"dataframe\">\n",
       "  <thead>\n",
       "    <tr style=\"text-align: right;\">\n",
       "      <th></th>\n",
       "      <th>0</th>\n",
       "    </tr>\n",
       "  </thead>\n",
       "  <tbody>\n",
       "    <tr>\n",
       "      <th>0</th>\n",
       "      <td>2183.699951</td>\n",
       "    </tr>\n",
       "    <tr>\n",
       "      <th>1</th>\n",
       "      <td>2170.000000</td>\n",
       "    </tr>\n",
       "    <tr>\n",
       "      <th>2</th>\n",
       "      <td>2165.000000</td>\n",
       "    </tr>\n",
       "    <tr>\n",
       "      <th>3</th>\n",
       "      <td>2152.000000</td>\n",
       "    </tr>\n",
       "    <tr>\n",
       "      <th>4</th>\n",
       "      <td>2150.000000</td>\n",
       "    </tr>\n",
       "  </tbody>\n",
       "</table>\n",
       "</div>"
      ],
      "text/plain": [
       "             0\n",
       "0  2183.699951\n",
       "1  2170.000000\n",
       "2  2165.000000\n",
       "3  2152.000000\n",
       "4  2150.000000"
      ]
     },
     "execution_count": 35,
     "metadata": {},
     "output_type": "execute_result"
    }
   ],
   "source": [
    "final_df.head()"
   ]
  },
  {
   "cell_type": "code",
   "execution_count": 36,
   "id": "BU7BPmzvMZpZ",
   "metadata": {
    "colab": {
     "base_uri": "https://localhost:8080/"
    },
    "id": "BU7BPmzvMZpZ",
    "outputId": "385dad96-22ef-4fe8-8aea-0a5ce1a7f6a6"
   },
   "outputs": [
    {
     "data": {
      "text/plain": [
       "array([[0.22543619],\n",
       "       [0.22087858],\n",
       "       [0.21921521],\n",
       "       ...,\n",
       "       [0.92583037],\n",
       "       [0.94943362],\n",
       "       [0.96698215]])"
      ]
     },
     "execution_count": 36,
     "metadata": {},
     "output_type": "execute_result"
    }
   ],
   "source": [
    "input_data = scaler.fit_transform(final_df)\n",
    "input_data"
   ]
  },
  {
   "cell_type": "code",
   "execution_count": 37,
   "id": "2E6k84TtMpvD",
   "metadata": {
    "colab": {
     "base_uri": "https://localhost:8080/"
    },
    "id": "2E6k84TtMpvD",
    "outputId": "06c0a3bb-bb78-49f3-d233-4ef1922d7a30"
   },
   "outputs": [
    {
     "data": {
      "text/plain": [
       "(1206, 1)"
      ]
     },
     "execution_count": 37,
     "metadata": {},
     "output_type": "execute_result"
    }
   ],
   "source": [
    "input_data.shape"
   ]
  },
  {
   "cell_type": "markdown",
   "id": "hJzkNc_To9li",
   "metadata": {
    "id": "hJzkNc_To9li"
   },
   "source": [
    "# Testing the model\n",
    "\n",
    "---\n",
    "\n"
   ]
  },
  {
   "cell_type": "code",
   "execution_count": 38,
   "id": "d9xCof1CMwwh",
   "metadata": {
    "id": "d9xCof1CMwwh"
   },
   "outputs": [],
   "source": [
    "x_test = []\n",
    "y_test = []\n",
    "for i in range(100, input_data.shape[0]):\n",
    "   x_test.append(input_data[i-100: i])\n",
    "   y_test.append(input_data[i, 0])"
   ]
  },
  {
   "cell_type": "code",
   "execution_count": 39,
   "id": "6MGDYZvrNUYc",
   "metadata": {
    "colab": {
     "base_uri": "https://localhost:8080/"
    },
    "id": "6MGDYZvrNUYc",
    "outputId": "4c699113-12cb-4065-b162-29e1761b96a4"
   },
   "outputs": [
    {
     "name": "stdout",
     "output_type": "stream",
     "text": [
      "(1106, 100, 1)\n",
      "(1106,)\n"
     ]
    }
   ],
   "source": [
    "x_test, y_test = np.array(x_test), np.array(y_test)\n",
    "print(x_test.shape)\n",
    "print(y_test.shape)"
   ]
  },
  {
   "cell_type": "markdown",
   "id": "PjvHSsrYpFBG",
   "metadata": {
    "id": "PjvHSsrYpFBG"
   },
   "source": [
    "# Making prediction and plotting the graph of predicted vs actual values\n",
    "\n",
    "---\n",
    "\n"
   ]
  },
  {
   "cell_type": "code",
   "execution_count": 40,
   "id": "GLMExu7NNdmA",
   "metadata": {
    "colab": {
     "base_uri": "https://localhost:8080/"
    },
    "id": "GLMExu7NNdmA",
    "outputId": "e415e6ce-3846-4044-e1a3-a1f7b17e10e0"
   },
   "outputs": [
    {
     "name": "stdout",
     "output_type": "stream",
     "text": [
      "35/35 [==============================] - 2s 45ms/step\n"
     ]
    }
   ],
   "source": [
    "# Making predictions\n",
    "\n",
    "y_pred = model.predict(x_test)"
   ]
  },
  {
   "cell_type": "code",
   "execution_count": 41,
   "id": "wAmVS__yNu-A",
   "metadata": {
    "colab": {
     "base_uri": "https://localhost:8080/"
    },
    "id": "wAmVS__yNu-A",
    "outputId": "a7d117ba-f92d-4be6-d813-47147ab5cd1c"
   },
   "outputs": [
    {
     "data": {
      "text/plain": [
       "(1106, 1)"
      ]
     },
     "execution_count": 41,
     "metadata": {},
     "output_type": "execute_result"
    }
   ],
   "source": [
    "y_pred.shape"
   ]
  },
  {
   "cell_type": "code",
   "execution_count": 42,
   "id": "HFhTH-1aNyqt",
   "metadata": {
    "colab": {
     "base_uri": "https://localhost:8080/"
    },
    "id": "HFhTH-1aNyqt",
    "outputId": "0e288060-20c6-46e6-bae7-93bb208f67ec"
   },
   "outputs": [
    {
     "data": {
      "text/plain": [
       "array([0.16765081, 0.17483655, 0.16740131, ..., 0.92583037, 0.94943362,\n",
       "       0.96698215])"
      ]
     },
     "execution_count": 42,
     "metadata": {},
     "output_type": "execute_result"
    }
   ],
   "source": [
    "y_test"
   ]
  },
  {
   "cell_type": "code",
   "execution_count": 43,
   "id": "WDIHSvbHN1vk",
   "metadata": {
    "colab": {
     "base_uri": "https://localhost:8080/"
    },
    "id": "WDIHSvbHN1vk",
    "outputId": "7f0459a8-b46e-4383-bd33-1af9f49a0211"
   },
   "outputs": [
    {
     "data": {
      "text/plain": [
       "array([[0.2539821 ],\n",
       "       [0.25429264],\n",
       "       [0.2542823 ],\n",
       "       ...,\n",
       "       [0.88445586],\n",
       "       [0.88832957],\n",
       "       [0.89428437]], dtype=float32)"
      ]
     },
     "execution_count": 43,
     "metadata": {},
     "output_type": "execute_result"
    }
   ],
   "source": [
    "y_pred"
   ]
  },
  {
   "cell_type": "code",
   "execution_count": 44,
   "id": "QMFgAgL5N6HX",
   "metadata": {
    "colab": {
     "base_uri": "https://localhost:8080/"
    },
    "id": "QMFgAgL5N6HX",
    "outputId": "ea7365cc-518f-4580-d114-1804855d66a4"
   },
   "outputs": [
    {
     "data": {
      "text/plain": [
       "array([0.00033267])"
      ]
     },
     "execution_count": 44,
     "metadata": {},
     "output_type": "execute_result"
    }
   ],
   "source": [
    "scaler.scale_"
   ]
  },
  {
   "cell_type": "code",
   "execution_count": 45,
   "id": "tPcp9BKLN-Y8",
   "metadata": {
    "id": "tPcp9BKLN-Y8"
   },
   "outputs": [],
   "source": [
    "scale_factor = 1/0.00041967\n",
    "y_pred = y_pred * scale_factor\n",
    "y_test = y_test * scale_factor"
   ]
  },
  {
   "cell_type": "code",
   "execution_count": 46,
   "id": "phumyMZUOPp_",
   "metadata": {
    "colab": {
     "base_uri": "https://localhost:8080/",
     "height": 542
    },
    "id": "phumyMZUOPp_",
    "outputId": "eba0f77b-fe47-431e-cbf8-49a103e127ab"
   },
   "outputs": [
    {
     "data": {
      "image/png": "[encoded data removed]",
      "text/plain": [
       "<Figure size 1200x600 with 1 Axes>"
      ]
     },
     "metadata": {},
     "output_type": "display_data"
    }
   ],
   "source": [
    "plt.figure(figsize = (12,6))\n",
    "plt.plot(y_test, 'b', label = \"Original Price\")\n",
    "plt.plot(y_pred, 'r', label = \"Predicted Price\")\n",
    "plt.xlabel('Time')\n",
    "plt.ylabel('Price')\n",
    "plt.legend()\n",
    "plt.grid(True)\n",
    "plt.show()"
   ]
  },
  {
   "cell_type": "markdown",
   "id": "m54ljCJrpShP",
   "metadata": {
    "id": "m54ljCJrpShP"
   },
   "source": [
    "# Model evaluation"
   ]
  },
  {
   "cell_type": "markdown",
   "id": "BdnuOyYQRKRP",
   "metadata": {
    "id": "BdnuOyYQRKRP"
   },
   "source": [
    "Calculation of mean absolute error"
   ]
  },
  {
   "cell_type": "code",
   "execution_count": 47,
   "id": "Yx6JWOKcX3Yo",
   "metadata": {
    "colab": {
     "base_uri": "https://localhost:8080/"
    },
    "id": "Yx6JWOKcX3Yo",
    "outputId": "74caad7d-81e9-4866-c771-3e6beccb39d8"
   },
   "outputs": [
    {
     "name": "stdout",
     "output_type": "stream",
     "text": [
      "Mean absolute error on test set: 5.04%\n"
     ]
    }
   ],
   "source": [
    "from sklearn.metrics import mean_absolute_error\n",
    "\n",
    "mae = mean_absolute_error(y_test, y_pred)\n",
    "mae_percentage = (mae / np.mean(y_test)) * 100\n",
    "print(\"Mean absolute error on test set: {:.2f}%\".format(mae_percentage))"
   ]
  },
  {
   "cell_type": "markdown",
   "id": "M8XnY8cuQIc2",
   "metadata": {
    "id": "M8XnY8cuQIc2"
   },
   "source": [
    "Calculation of R2 score"
   ]
  },
  {
   "cell_type": "code",
   "execution_count": 48,
   "id": "GAAyLdoMNTwZ",
   "metadata": {
    "colab": {
     "base_uri": "https://localhost:8080/"
    },
    "id": "GAAyLdoMNTwZ",
    "outputId": "58c4c588-24d4-49bf-83ac-5a615a631c2e"
   },
   "outputs": [
    {
     "name": "stdout",
     "output_type": "stream",
     "text": [
      "R2 score: 0.9459679811703501\n"
     ]
    }
   ],
   "source": [
    "from sklearn.metrics import r2_score\n",
    "\n",
    "# Actual values\n",
    "actual = y_test\n",
    "\n",
    "# Predicted values\n",
    "predicted = y_pred\n",
    "\n",
    "# Calculate the R2 score\n",
    "r2 = r2_score(actual, predicted)\n",
    "\n",
    "print(\"R2 score:\", r2)"
   ]
  },
  {
   "cell_type": "code",
   "execution_count": 49,
   "id": "vQGgW50tNtMf",
   "metadata": {
    "colab": {
     "base_uri": "https://localhost:8080/",
     "height": 472
    },
    "id": "vQGgW50tNtMf",
    "outputId": "94767ec4-b582-409b-ea5d-2d5659997e8c"
   },
   "outputs": [
    {
     "data": {
      "image/png": "[encoded data removed]",
      "text/plain": [
       "<Figure size 640x480 with 1 Axes>"
      ]
     },
     "metadata": {},
     "output_type": "display_data"
    }
   ],
   "source": [
    "# Plotting the R2 score\n",
    "fig, ax = plt.subplots()\n",
    "ax.barh(0, r2, color='skyblue')\n",
    "ax.set_xlim([-1, 1])\n",
    "ax.set_yticks([])\n",
    "ax.set_xlabel('R2 Score')\n",
    "ax.set_title('R2 Score')\n",
    "\n",
    "# Adding the R2 score value on the bar\n",
    "ax.text(r2, 0, f'{r2:.2f}', va='center', color='black')\n",
    "\n",
    "plt.show()"
   ]
  },
  {
   "cell_type": "code",
   "execution_count": 50,
   "id": "Q8RHQ80hPfi4",
   "metadata": {
    "colab": {
     "base_uri": "https://localhost:8080/",
     "height": 472
    },
    "id": "Q8RHQ80hPfi4",
    "outputId": "a1b81f5b-e56b-4f29-886c-e53f7e6f2bcb"
   },
   "outputs": [
    {
     "data": {
      "image/png": "[encoded data removed]",
      "text/plain": [
       "<Figure size 640x480 with 1 Axes>"
      ]
     },
     "metadata": {},
     "output_type": "display_data"
    }
   ],
   "source": [
    "plt.scatter(actual, predicted)\n",
    "plt.plot([min(actual), max(actual)], [min(predicted), max(predicted)], 'r--')\n",
    "plt.xlabel('Actual Values')\n",
    "plt.ylabel('Predicted Values')\n",
    "plt.title(f'R2 Score: {r2:.2f}')\n",
    "plt.show()"
   ]
  }
 ],
 "metadata": {
  "accelerator": "GPU",
  "colab": {
   "include_colab_link": true,
   "provenance": []
  },
  "gpuClass": "standard",
  "kernelspec": {
   "display_name": "dl_env",
   "language": "python",
   "name": "python3"
  },
  "language_info": {
   "codemirror_mode": {
    "name": "ipython",
    "version": 3
   },
   "file_extension": ".py",
   "mimetype": "text/x-python",
   "name": "python",
   "nbconvert_exporter": "python",
   "pygments_lexer": "ipython3",
   "version": "3.7.17"
  }
 },
 "nbformat": 4,
 "nbformat_minor": 5
}
